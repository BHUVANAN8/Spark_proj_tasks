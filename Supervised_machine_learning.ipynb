{
  "nbformat": 4,
  "nbformat_minor": 0,
  "metadata": {
    "colab": {
      "name": "Supervised machine learning.ipynb",
      "provenance": [],
      "collapsed_sections": [],
      "authorship_tag": "ABX9TyPWyFulhh/7jEHy/d88kgVE",
      "include_colab_link": true
    },
    "kernelspec": {
      "name": "python3",
      "display_name": "Python 3"
    },
    "language_info": {
      "name": "python"
    }
  },
  "cells": [
    {
      "cell_type": "markdown",
      "metadata": {
        "id": "view-in-github",
        "colab_type": "text"
      },
      "source": [
        "<a href=\"https://colab.research.google.com/github/BHUVANAN8/Spark_proj_tasks/blob/main/Supervised_machine_learning.ipynb\" target=\"_parent\"><img src=\"https://colab.research.google.com/assets/colab-badge.svg\" alt=\"Open In Colab\"/></a>"
      ]
    },
    {
      "cell_type": "markdown",
      "metadata": {
        "id": "26_J3yjICCHp"
      },
      "source": [
        "Name : N Bhuvaneswari"
        "**Objective:** To predict the percentage of a student based on their number of study hours."
      ]
    },
    {
      "cell_type": "markdown",
      "metadata": {
        "id": "WukRjHl34xjV"
      },
      "source": [
        "**IMPORTING LIBRARIES**"
      ]
    },
    {
      "cell_type": "code",
      "metadata": {
        "colab": {
          "base_uri": "https://localhost:8080/"
        },
        "id": "drqfs-ReTZWb",
        "outputId": "58101728-b0a7-447f-d3b2-8ccf53421ce1"
      },
      "source": [
        "#importing libraries\n",
        "import numpy as np\n",
        "import pandas as pd\n",
        "import matplotlib.pyplot as plt\n",
        "%matplotlib inline\n",
        "import seaborn as sns\n",
        "from sklearn.model_selection import train_test_split\n",
        "from sklearn.linear_model import LinearRegression\n",
        "from sklearn import metrics\n",
        "print(\"Setup complete\")\n"
      ],
      "execution_count": 32,
      "outputs": [
        {
          "output_type": "stream",
          "text": [
            "Setup complete\n"
          ],
          "name": "stdout"
        }
      ]
    },
    {
      "cell_type": "markdown",
      "metadata": {
        "id": "DBndh1Ds44j0"
      },
      "source": [
        "**READ THE DATAS IN PANDAS DATAFRAME**"
      ]
    },
    {
      "cell_type": "code",
      "metadata": {
        "colab": {
          "base_uri": "https://localhost:8080/",
          "height": 815
        },
        "id": "nn0LxBB-Tj9I",
        "outputId": "066439fe-b9d4-4058-c136-bda7ea83ab6c"
      },
      "source": [
        "path = \"https://raw.githubusercontent.com/AdiPersonalWorks/Random/master/student_scores%20-%20student_scores.csv\"\n",
        "df = pd.read_csv(path)\n",
        "df"
      ],
      "execution_count": 96,
      "outputs": [
        {
          "output_type": "execute_result",
          "data": {
            "text/html": [
              "<div>\n",
              "<style scoped>\n",
              "    .dataframe tbody tr th:only-of-type {\n",
              "        vertical-align: middle;\n",
              "    }\n",
              "\n",
              "    .dataframe tbody tr th {\n",
              "        vertical-align: top;\n",
              "    }\n",
              "\n",
              "    .dataframe thead th {\n",
              "        text-align: right;\n",
              "    }\n",
              "</style>\n",
              "<table border=\"1\" class=\"dataframe\">\n",
              "  <thead>\n",
              "    <tr style=\"text-align: right;\">\n",
              "      <th></th>\n",
              "      <th>Hours</th>\n",
              "      <th>Scores</th>\n",
              "    </tr>\n",
              "  </thead>\n",
              "  <tbody>\n",
              "    <tr>\n",
              "      <th>0</th>\n",
              "      <td>2.5</td>\n",
              "      <td>21</td>\n",
              "    </tr>\n",
              "    <tr>\n",
              "      <th>1</th>\n",
              "      <td>5.1</td>\n",
              "      <td>47</td>\n",
              "    </tr>\n",
              "    <tr>\n",
              "      <th>2</th>\n",
              "      <td>3.2</td>\n",
              "      <td>27</td>\n",
              "    </tr>\n",
              "    <tr>\n",
              "      <th>3</th>\n",
              "      <td>8.5</td>\n",
              "      <td>75</td>\n",
              "    </tr>\n",
              "    <tr>\n",
              "      <th>4</th>\n",
              "      <td>3.5</td>\n",
              "      <td>30</td>\n",
              "    </tr>\n",
              "    <tr>\n",
              "      <th>5</th>\n",
              "      <td>1.5</td>\n",
              "      <td>20</td>\n",
              "    </tr>\n",
              "    <tr>\n",
              "      <th>6</th>\n",
              "      <td>9.2</td>\n",
              "      <td>88</td>\n",
              "    </tr>\n",
              "    <tr>\n",
              "      <th>7</th>\n",
              "      <td>5.5</td>\n",
              "      <td>60</td>\n",
              "    </tr>\n",
              "    <tr>\n",
              "      <th>8</th>\n",
              "      <td>8.3</td>\n",
              "      <td>81</td>\n",
              "    </tr>\n",
              "    <tr>\n",
              "      <th>9</th>\n",
              "      <td>2.7</td>\n",
              "      <td>25</td>\n",
              "    </tr>\n",
              "    <tr>\n",
              "      <th>10</th>\n",
              "      <td>7.7</td>\n",
              "      <td>85</td>\n",
              "    </tr>\n",
              "    <tr>\n",
              "      <th>11</th>\n",
              "      <td>5.9</td>\n",
              "      <td>62</td>\n",
              "    </tr>\n",
              "    <tr>\n",
              "      <th>12</th>\n",
              "      <td>4.5</td>\n",
              "      <td>41</td>\n",
              "    </tr>\n",
              "    <tr>\n",
              "      <th>13</th>\n",
              "      <td>3.3</td>\n",
              "      <td>42</td>\n",
              "    </tr>\n",
              "    <tr>\n",
              "      <th>14</th>\n",
              "      <td>1.1</td>\n",
              "      <td>17</td>\n",
              "    </tr>\n",
              "    <tr>\n",
              "      <th>15</th>\n",
              "      <td>8.9</td>\n",
              "      <td>95</td>\n",
              "    </tr>\n",
              "    <tr>\n",
              "      <th>16</th>\n",
              "      <td>2.5</td>\n",
              "      <td>30</td>\n",
              "    </tr>\n",
              "    <tr>\n",
              "      <th>17</th>\n",
              "      <td>1.9</td>\n",
              "      <td>24</td>\n",
              "    </tr>\n",
              "    <tr>\n",
              "      <th>18</th>\n",
              "      <td>6.1</td>\n",
              "      <td>67</td>\n",
              "    </tr>\n",
              "    <tr>\n",
              "      <th>19</th>\n",
              "      <td>7.4</td>\n",
              "      <td>69</td>\n",
              "    </tr>\n",
              "    <tr>\n",
              "      <th>20</th>\n",
              "      <td>2.7</td>\n",
              "      <td>30</td>\n",
              "    </tr>\n",
              "    <tr>\n",
              "      <th>21</th>\n",
              "      <td>4.8</td>\n",
              "      <td>54</td>\n",
              "    </tr>\n",
              "    <tr>\n",
              "      <th>22</th>\n",
              "      <td>3.8</td>\n",
              "      <td>35</td>\n",
              "    </tr>\n",
              "    <tr>\n",
              "      <th>23</th>\n",
              "      <td>6.9</td>\n",
              "      <td>76</td>\n",
              "    </tr>\n",
              "    <tr>\n",
              "      <th>24</th>\n",
              "      <td>7.8</td>\n",
              "      <td>86</td>\n",
              "    </tr>\n",
              "  </tbody>\n",
              "</table>\n",
              "</div>"
            ],
            "text/plain": [
              "    Hours  Scores\n",
              "0     2.5      21\n",
              "1     5.1      47\n",
              "2     3.2      27\n",
              "3     8.5      75\n",
              "4     3.5      30\n",
              "5     1.5      20\n",
              "6     9.2      88\n",
              "7     5.5      60\n",
              "8     8.3      81\n",
              "9     2.7      25\n",
              "10    7.7      85\n",
              "11    5.9      62\n",
              "12    4.5      41\n",
              "13    3.3      42\n",
              "14    1.1      17\n",
              "15    8.9      95\n",
              "16    2.5      30\n",
              "17    1.9      24\n",
              "18    6.1      67\n",
              "19    7.4      69\n",
              "20    2.7      30\n",
              "21    4.8      54\n",
              "22    3.8      35\n",
              "23    6.9      76\n",
              "24    7.8      86"
            ]
          },
          "metadata": {
            "tags": []
          },
          "execution_count": 96
        }
      ]
    },
    {
      "cell_type": "markdown",
      "metadata": {
        "id": "eNQwI5JPBCuK"
      },
      "source": [
        "**Data Analysis**"
      ]
    },
    {
      "cell_type": "code",
      "metadata": {
        "colab": {
          "base_uri": "https://localhost:8080/",
          "height": 202
        },
        "id": "lMCARtCeT2lU",
        "outputId": "57c28605-2eb1-4a6c-9a8a-287d11250edf"
      },
      "source": [
        "#PRINT THE FIRST 5 ROWS IN Dataframe\n",
        "df.head()"
      ],
      "execution_count": 87,
      "outputs": [
        {
          "output_type": "execute_result",
          "data": {
            "text/html": [
              "<div>\n",
              "<style scoped>\n",
              "    .dataframe tbody tr th:only-of-type {\n",
              "        vertical-align: middle;\n",
              "    }\n",
              "\n",
              "    .dataframe tbody tr th {\n",
              "        vertical-align: top;\n",
              "    }\n",
              "\n",
              "    .dataframe thead th {\n",
              "        text-align: right;\n",
              "    }\n",
              "</style>\n",
              "<table border=\"1\" class=\"dataframe\">\n",
              "  <thead>\n",
              "    <tr style=\"text-align: right;\">\n",
              "      <th></th>\n",
              "      <th>Hours</th>\n",
              "      <th>Scores</th>\n",
              "    </tr>\n",
              "  </thead>\n",
              "  <tbody>\n",
              "    <tr>\n",
              "      <th>0</th>\n",
              "      <td>2.5</td>\n",
              "      <td>21</td>\n",
              "    </tr>\n",
              "    <tr>\n",
              "      <th>1</th>\n",
              "      <td>5.1</td>\n",
              "      <td>47</td>\n",
              "    </tr>\n",
              "    <tr>\n",
              "      <th>2</th>\n",
              "      <td>3.2</td>\n",
              "      <td>27</td>\n",
              "    </tr>\n",
              "    <tr>\n",
              "      <th>3</th>\n",
              "      <td>8.5</td>\n",
              "      <td>75</td>\n",
              "    </tr>\n",
              "    <tr>\n",
              "      <th>4</th>\n",
              "      <td>3.5</td>\n",
              "      <td>30</td>\n",
              "    </tr>\n",
              "  </tbody>\n",
              "</table>\n",
              "</div>"
            ],
            "text/plain": [
              "   Hours  Scores\n",
              "0    2.5      21\n",
              "1    5.1      47\n",
              "2    3.2      27\n",
              "3    8.5      75\n",
              "4    3.5      30"
            ]
          },
          "metadata": {
            "tags": []
          },
          "execution_count": 87
        }
      ]
    },
    {
      "cell_type": "code",
      "metadata": {
        "colab": {
          "base_uri": "https://localhost:8080/",
          "height": 294
        },
        "id": "XX7f2rigVv-c",
        "outputId": "b5cdd4f5-204a-4fe8-ad79-7b13acd8dbe6"
      },
      "source": [
        "#VIEW THE STATISTICAL VALUES OF THE Data frame\n",
        "df.describe()"
      ],
      "execution_count": 88,
      "outputs": [
        {
          "output_type": "execute_result",
          "data": {
            "text/html": [
              "<div>\n",
              "<style scoped>\n",
              "    .dataframe tbody tr th:only-of-type {\n",
              "        vertical-align: middle;\n",
              "    }\n",
              "\n",
              "    .dataframe tbody tr th {\n",
              "        vertical-align: top;\n",
              "    }\n",
              "\n",
              "    .dataframe thead th {\n",
              "        text-align: right;\n",
              "    }\n",
              "</style>\n",
              "<table border=\"1\" class=\"dataframe\">\n",
              "  <thead>\n",
              "    <tr style=\"text-align: right;\">\n",
              "      <th></th>\n",
              "      <th>Hours</th>\n",
              "      <th>Scores</th>\n",
              "    </tr>\n",
              "  </thead>\n",
              "  <tbody>\n",
              "    <tr>\n",
              "      <th>count</th>\n",
              "      <td>25.000000</td>\n",
              "      <td>25.000000</td>\n",
              "    </tr>\n",
              "    <tr>\n",
              "      <th>mean</th>\n",
              "      <td>5.012000</td>\n",
              "      <td>51.480000</td>\n",
              "    </tr>\n",
              "    <tr>\n",
              "      <th>std</th>\n",
              "      <td>2.525094</td>\n",
              "      <td>25.286887</td>\n",
              "    </tr>\n",
              "    <tr>\n",
              "      <th>min</th>\n",
              "      <td>1.100000</td>\n",
              "      <td>17.000000</td>\n",
              "    </tr>\n",
              "    <tr>\n",
              "      <th>25%</th>\n",
              "      <td>2.700000</td>\n",
              "      <td>30.000000</td>\n",
              "    </tr>\n",
              "    <tr>\n",
              "      <th>50%</th>\n",
              "      <td>4.800000</td>\n",
              "      <td>47.000000</td>\n",
              "    </tr>\n",
              "    <tr>\n",
              "      <th>75%</th>\n",
              "      <td>7.400000</td>\n",
              "      <td>75.000000</td>\n",
              "    </tr>\n",
              "    <tr>\n",
              "      <th>max</th>\n",
              "      <td>9.200000</td>\n",
              "      <td>95.000000</td>\n",
              "    </tr>\n",
              "  </tbody>\n",
              "</table>\n",
              "</div>"
            ],
            "text/plain": [
              "           Hours     Scores\n",
              "count  25.000000  25.000000\n",
              "mean    5.012000  51.480000\n",
              "std     2.525094  25.286887\n",
              "min     1.100000  17.000000\n",
              "25%     2.700000  30.000000\n",
              "50%     4.800000  47.000000\n",
              "75%     7.400000  75.000000\n",
              "max     9.200000  95.000000"
            ]
          },
          "metadata": {
            "tags": []
          },
          "execution_count": 88
        }
      ]
    },
    {
      "cell_type": "code",
      "metadata": {
        "colab": {
          "base_uri": "https://localhost:8080/"
        },
        "id": "ZKXJxxtXVy_p",
        "outputId": "a802c72a-8f9b-40ed-dfb1-3197277a1145"
      },
      "source": [
        "#CHECKING FOR MISSING VALUES IN THE DATAFRAME\n",
        "df.isnull().sum()"
      ],
      "execution_count": 89,
      "outputs": [
        {
          "output_type": "execute_result",
          "data": {
            "text/plain": [
              "Hours     0\n",
              "Scores    0\n",
              "dtype: int64"
            ]
          },
          "metadata": {
            "tags": []
          },
          "execution_count": 89
        }
      ]
    },
    {
      "cell_type": "markdown",
      "metadata": {
        "id": "-uxysAin5l7G"
      },
      "source": [
        "**DATA VISUALIZATION**"
      ]
    },
    {
      "cell_type": "code",
      "metadata": {
        "colab": {
          "base_uri": "https://localhost:8080/",
          "height": 404
        },
        "id": "ZEEkcnY2V_o0",
        "outputId": "cc9b088f-6296-46fc-955d-91ecd947df28"
      },
      "source": [
        "plt.figure(figsize=(6,6))\n",
        "sns.scatterplot(data=df,x='Hours',y = 'Scores', color= 'red')\n",
        "plt.title('study_Hours vs Scores')\n",
        "plt.xlabel('Hours')\n",
        "plt.ylabel('Scores')\n",
        "plt.show()"
      ],
      "execution_count": 90,
      "outputs": [
        {
          "output_type": "display_data",
          "data": {
            "image/png": "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\n",
            "text/plain": [
              "<Figure size 432x432 with 1 Axes>"
            ]
          },
          "metadata": {
            "tags": [],
            "needs_background": "light"
          }
        }
      ]
    },
    {
      "cell_type": "code",
      "metadata": {
        "id": "aK3TqIYFXBeH"
      },
      "source": [
        "#SEPARATE THE FEATURE VARIABLE AND TARGET VARIABLE\n",
        "x= df.iloc[:, :-1].values.reshape(-1,1)\n",
        "y=df.iloc[:,1].values.reshape(-1,1)"
      ],
      "execution_count": 64,
      "outputs": []
    },
    {
      "cell_type": "markdown",
      "metadata": {
        "id": "2AJy2psd9Hd1"
      },
      "source": [
        "**TRAIN_TEST_SPLIT**"
      ]
    },
    {
      "cell_type": "code",
      "metadata": {
        "colab": {
          "base_uri": "https://localhost:8080/"
        },
        "id": "UrHlLLCJ9GyU",
        "outputId": "850b9d97-99a4-4c54-a2ba-fb9b8cfc04cd"
      },
      "source": [
        "x_train,x_test, y_train, y_test = train_test_split(x,y,test_size= 0.2, random_state=2)\n",
        "print(y.shape, y_train.shape, y_test.shape)"
      ],
      "execution_count": 65,
      "outputs": [
        {
          "output_type": "stream",
          "text": [
            "(25, 1) (20, 1) (5, 1)\n"
          ],
          "name": "stdout"
        }
      ]
    },
    {
      "cell_type": "markdown",
      "metadata": {
        "id": "qnS3f6rz9hS2"
      },
      "source": [
        "**BUILD A MODEL USING LINEAR REGRESSION**"
      ]
    },
    {
      "cell_type": "code",
      "metadata": {
        "colab": {
          "base_uri": "https://localhost:8080/"
        },
        "id": "DB5DX_kRYpEG",
        "outputId": "c9e6d36e-41db-4e95-8b01-1e78333467a7"
      },
      "source": [
        "model = LinearRegression()\n",
        "model.fit(x_train, y_train)\n",
        "y_pred = model.predict(x_test)\n",
        "y_pred"
      ],
      "execution_count": 94,
      "outputs": [
        {
          "output_type": "execute_result",
          "data": {
            "text/plain": [
              "array([[12.44258714],\n",
              "       [26.35944834],\n",
              "       [20.39507925],\n",
              "       [92.9615698 ],\n",
              "       [70.09815497]])"
            ]
          },
          "metadata": {
            "tags": []
          },
          "execution_count": 94
        }
      ]
    },
    {
      "cell_type": "markdown",
      "metadata": {
        "id": "XkKGxvPV9_oQ"
      },
      "source": [
        "**COMPARE ACTUAL VS PREDICTED VALUE**"
      ]
    },
    {
      "cell_type": "code",
      "metadata": {
        "colab": {
          "base_uri": "https://localhost:8080/",
          "height": 202
        },
        "id": "AJkYMDM2tjY8",
        "outputId": "3db4d7ca-3c35-46ca-d37c-e81ed20b565f"
      },
      "source": [
        "df_2 = pd.DataFrame({\"Actual\": y_test, \"Predicted_value\": y_pred})\n",
        "df_2"
      ],
      "execution_count": 23,
      "outputs": [
        {
          "output_type": "execute_result",
          "data": {
            "text/html": [
              "<div>\n",
              "<style scoped>\n",
              "    .dataframe tbody tr th:only-of-type {\n",
              "        vertical-align: middle;\n",
              "    }\n",
              "\n",
              "    .dataframe tbody tr th {\n",
              "        vertical-align: top;\n",
              "    }\n",
              "\n",
              "    .dataframe thead th {\n",
              "        text-align: right;\n",
              "    }\n",
              "</style>\n",
              "<table border=\"1\" class=\"dataframe\">\n",
              "  <thead>\n",
              "    <tr style=\"text-align: right;\">\n",
              "      <th></th>\n",
              "      <th>Actual</th>\n",
              "      <th>Predicted_value</th>\n",
              "    </tr>\n",
              "  </thead>\n",
              "  <tbody>\n",
              "    <tr>\n",
              "      <th>0</th>\n",
              "      <td>17</td>\n",
              "      <td>12.442587</td>\n",
              "    </tr>\n",
              "    <tr>\n",
              "      <th>1</th>\n",
              "      <td>21</td>\n",
              "      <td>26.359448</td>\n",
              "    </tr>\n",
              "    <tr>\n",
              "      <th>2</th>\n",
              "      <td>24</td>\n",
              "      <td>20.395079</td>\n",
              "    </tr>\n",
              "    <tr>\n",
              "      <th>3</th>\n",
              "      <td>88</td>\n",
              "      <td>92.961570</td>\n",
              "    </tr>\n",
              "    <tr>\n",
              "      <th>4</th>\n",
              "      <td>76</td>\n",
              "      <td>70.098155</td>\n",
              "    </tr>\n",
              "  </tbody>\n",
              "</table>\n",
              "</div>"
            ],
            "text/plain": [
              "   Actual  Predicted_value\n",
              "0      17        12.442587\n",
              "1      21        26.359448\n",
              "2      24        20.395079\n",
              "3      88        92.961570\n",
              "4      76        70.098155"
            ]
          },
          "metadata": {
            "tags": []
          },
          "execution_count": 23
        }
      ]
    },
    {
      "cell_type": "markdown",
      "metadata": {
        "id": "2HnYvkcS_qkc"
      },
      "source": [
        "**Plot the regression line**"
      ]
    },
    {
      "cell_type": "code",
      "metadata": {
        "colab": {
          "base_uri": "https://localhost:8080/",
          "height": 265
        },
        "id": "WqDo5Whx0_qa",
        "outputId": "9e40373c-d9b6-4256-ca60-e922f9881877"
      },
      "source": [
        "line = model.coef_*x+model.intercept_\n",
        "plt.scatter(x, y)\n",
        "plt.plot(x, line, color='red')\n",
        "plt.show()"
      ],
      "execution_count": 49,
      "outputs": [
        {
          "output_type": "display_data",
          "data": {
            "image/png": "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\n",
            "text/plain": [
              "<Figure size 432x288 with 1 Axes>"
            ]
          },
          "metadata": {
            "tags": [],
            "needs_background": "light"
          }
        }
      ]
    },
    {
      "cell_type": "markdown",
      "metadata": {
        "id": "rqyWqk3l_wv_"
      },
      "source": [
        "**Model validation**"
      ]
    },
    {
      "cell_type": "code",
      "metadata": {
        "colab": {
          "base_uri": "https://localhost:8080/"
        },
        "id": "VFSCE_2D_Dx_",
        "outputId": "2ab0e387-f4eb-4e49-b288-1460fb5bf247"
      },
      "source": [
        "#model_validations\n",
        "print(\"mean_absolute_error:\", metrics.mean_absolute_error(y_test, y_pred))\n",
        "print(\"mean_square_error:\", metrics.mean_squared_error(y_test, y_pred))"
      ],
      "execution_count": 97,
      "outputs": [
        {
          "output_type": "stream",
          "text": [
            "mean_absolute_error: 4.877039354964476\n",
            "mean_square_error: 24.387620339856596\n"
          ],
          "name": "stdout"
        }
      ]
    },
    {
      "cell_type": "markdown",
      "metadata": {
        "id": "KI_NTr1e8Lt6"
      },
      "source": [
        "**BUILDING PRDEICTIVE SYSTEM**"
      ]
    },
    {
      "cell_type": "code",
      "metadata": {
        "colab": {
          "base_uri": "https://localhost:8080/"
        },
        "id": "hlVYtZTTukQ2",
        "outputId": "eb4853f5-5767-4b34-8a89-de79f3ab1639"
      },
      "source": [
        "input_data = 9.25\n",
        "prediction = model.predict([[input_data]])\n",
        "print(\"No of Hours = {}\".format(input_data))\n",
        "print(\"Percentage = {}\".format(prediction[0]))"
      ],
      "execution_count": 84,
      "outputs": [
        {
          "output_type": "stream",
          "text": [
            "No of Hours = 9.25\n",
            "Percentage = [93.45860056]\n"
          ],
          "name": "stdout"
        }
      ]
    }
  ]
}
